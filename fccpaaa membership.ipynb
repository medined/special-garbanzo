{
 "cells": [
  {
   "cell_type": "code",
   "execution_count": 41,
   "id": "4db632ab",
   "metadata": {
    "ExecuteTime": {
     "end_time": "2021-05-25T00:56:09.120587Z",
     "start_time": "2021-05-25T00:56:08.984775Z"
    }
   },
   "outputs": [
    {
     "data": {
      "text/html": [
       "<div>\n",
       "<style scoped>\n",
       "    .dataframe tbody tr th:only-of-type {\n",
       "        vertical-align: middle;\n",
       "    }\n",
       "\n",
       "    .dataframe tbody tr th {\n",
       "        vertical-align: top;\n",
       "    }\n",
       "\n",
       "    .dataframe thead th {\n",
       "        text-align: right;\n",
       "    }\n",
       "</style>\n",
       "<table border=\"1\" class=\"dataframe\">\n",
       "  <thead>\n",
       "    <tr style=\"text-align: right;\">\n",
       "      <th></th>\n",
       "      <th>Last</th>\n",
       "      <th>First</th>\n",
       "      <th>Address</th>\n",
       "      <th>City</th>\n",
       "      <th>State</th>\n",
       "      <th>Zip</th>\n",
       "      <th>Primary  Phone</th>\n",
       "      <th>Email</th>\n",
       "      <th>Dues Paid 2021</th>\n",
       "      <th>Data\\nVerified</th>\n",
       "      <th>year_joined</th>\n",
       "      <th>CPA\\nSession</th>\n",
       "      <th>Honorary Member</th>\n",
       "      <th>Notes</th>\n",
       "    </tr>\n",
       "  </thead>\n",
       "  <tbody>\n",
       "    <tr>\n",
       "      <th>101</th>\n",
       "      <td>Yothers</td>\n",
       "      <td>Tabitha A.</td>\n",
       "      <td>7604 Lakeside Village Drive - Unit 1</td>\n",
       "      <td>Falls Church</td>\n",
       "      <td>VA</td>\n",
       "      <td>22042</td>\n",
       "      <td>7032375865</td>\n",
       "      <td>tabiy@usa.net;</td>\n",
       "      <td>NaN</td>\n",
       "      <td>2020-02-15</td>\n",
       "      <td>2003</td>\n",
       "      <td>3</td>\n",
       "      <td>NaN</td>\n",
       "      <td>NaN</td>\n",
       "    </tr>\n",
       "  </tbody>\n",
       "</table>\n",
       "</div>"
      ],
      "text/plain": [
       "        Last       First                               Address          City  \\\n",
       "101  Yothers  Tabitha A.  7604 Lakeside Village Drive - Unit 1  Falls Church   \n",
       "\n",
       "    State    Zip  Primary  Phone           Email Dues Paid 2021  \\\n",
       "101    VA  22042      7032375865  tabiy@usa.net;            NaN   \n",
       "\n",
       "    Data\\nVerified  year_joined CPA\\nSession  Honorary Member Notes  \n",
       "101     2020-02-15         2003            3              NaN   NaN  "
      ]
     },
     "execution_count": 41,
     "metadata": {},
     "output_type": "execute_result"
    }
   ],
   "source": [
    "import matplotlib as plt\n",
    "import pandas as pd\n",
    "\n",
    "# 'Unnamed: 0', 'Unnamed: 1', 'Last', 'First', 'Address', 'City', 'State',\n",
    "#       'Zip', 'Primary  Phone', 'Email', 'Dues Paid 2021', 'Data\\nVerified',\n",
    "#       'Member\\nSince', 'CPA\\nSession', 'Honorary Member', 'Notes',\n",
    "#       'Unnamed: 16'\n",
    "\n",
    "df = pd.read_excel('/data/Dropbox/david/fccpaaa/2021-05-Membership-data.xlsx', header=3, nrows=102)\n",
    "df.drop(['Unnamed: 0'], axis=1, inplace=True)\n",
    "df.drop(['Unnamed: 1'], axis=1, inplace=True)\n",
    "df.drop(['Unnamed: 16'], axis=1, inplace=True)\n",
    "df.rename(columns={'Member\\nSince': 'year_joined'}, inplace=True)\n",
    "df.tail(n=1)\n"
   ]
  },
  {
   "cell_type": "code",
   "execution_count": 42,
   "id": "162c0f15",
   "metadata": {
    "ExecuteTime": {
     "end_time": "2021-05-25T00:56:13.656073Z",
     "start_time": "2021-05-25T00:56:13.653167Z"
    }
   },
   "outputs": [
    {
     "data": {
      "text/plain": [
       "(102, 14)"
      ]
     },
     "execution_count": 42,
     "metadata": {},
     "output_type": "execute_result"
    }
   ],
   "source": [
    "df.shape"
   ]
  },
  {
   "cell_type": "code",
   "execution_count": null,
   "id": "d19624cb",
   "metadata": {},
   "outputs": [],
   "source": []
  },
  {
   "cell_type": "code",
   "execution_count": 45,
   "id": "535cf5a9",
   "metadata": {
    "ExecuteTime": {
     "end_time": "2021-05-25T00:56:31.893752Z",
     "start_time": "2021-05-25T00:56:31.556188Z"
    },
    "scrolled": true
   },
   "outputs": [
    {
     "data": {
      "text/plain": [
       "<AxesSubplot:xlabel='year_joined'>"
      ]
     },
     "execution_count": 45,
     "metadata": {},
     "output_type": "execute_result"
    },
    {
     "data": {
      "image/png": "[encoded data removed]",
      "text/plain": [
       "<Figure size 432x288 with 1 Axes>"
      ]
     },
     "metadata": {
      "needs_background": "light"
     },
     "output_type": "display_data"
    }
   ],
   "source": [
    "dfg = df.groupby([df.year_joined]).count()\n",
    "dfg = dfg.filter(['Last'])\n",
    "dfg.plot()"
   ]
  }
 ],
 "metadata": {
  "kernelspec": {
   "display_name": "Python 3",
   "language": "python",
   "name": "python3"
  },
  "language_info": {
   "codemirror_mode": {
    "name": "ipython",
    "version": 3
   },
   "file_extension": ".py",
   "mimetype": "text/x-python",
   "name": "python",
   "nbconvert_exporter": "python",
   "pygments_lexer": "ipython3",
   "version": "3.9.4"
  },
  "varInspector": {
   "cols": {
    "lenName": 16,
    "lenType": 16,
    "lenVar": 40
   },
   "kernels_config": {
    "python": {
     "delete_cmd_postfix": "",
     "delete_cmd_prefix": "del ",
     "library": "var_list.py",
     "varRefreshCmd": "print(var_dic_list())"
    },
    "r": {
     "delete_cmd_postfix": ") ",
     "delete_cmd_prefix": "rm(",
     "library": "var_list.r",
     "varRefreshCmd": "cat(var_dic_list()) "
    }
   },
   "types_to_exclude": [
    "module",
    "function",
    "builtin_function_or_method",
    "instance",
    "_Feature"
   ],
   "window_display": false
  }
 },
 "nbformat": 4,
 "nbformat_minor": 5
}
